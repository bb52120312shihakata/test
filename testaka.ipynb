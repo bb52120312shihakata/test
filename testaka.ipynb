{
  "nbformat": 4,
  "nbformat_minor": 0,
  "metadata": {
    "colab": {
      "name": "testaka",
      "provenance": [],
      "authorship_tag": "ABX9TyN+B2vO89Wz405EJzwMATMN",
      "include_colab_link": true
    },
    "kernelspec": {
      "name": "python3",
      "display_name": "Python 3"
    }
  },
  "cells": [
    {
      "cell_type": "markdown",
      "metadata": {
        "id": "view-in-github",
        "colab_type": "text"
      },
      "source": [
        "<a href=\"https://colab.research.google.com/github/bb52120312shihakata/test/blob/master/testaka.ipynb\" target=\"_parent\"><img src=\"https://colab.research.google.com/assets/colab-badge.svg\" alt=\"Open In Colab\"/></a>"
      ]
    },
    {
      "cell_type": "code",
      "metadata": {
        "id": "gGNi0DW548ik",
        "colab_type": "code",
        "colab": {}
      },
      "source": [
        "print(\"hello!!!\")\n",
        "print(\"hello!!!\")"
      ],
      "execution_count": null,
      "outputs": []
    }
  ]
}